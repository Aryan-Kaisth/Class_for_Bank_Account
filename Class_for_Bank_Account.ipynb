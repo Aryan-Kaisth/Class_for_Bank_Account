{
  "nbformat": 4,
  "nbformat_minor": 0,
  "metadata": {
    "colab": {
      "provenance": []
    },
    "kernelspec": {
      "name": "python3",
      "display_name": "Python 3"
    },
    "language_info": {
      "name": "python"
    }
  },
  "cells": [
    {
      "cell_type": "code",
      "source": [
        "class BankAccount:\n",
        "    # Class-level variable: shared across all instances\n",
        "    auth = 6969  # Default PIN for authentication (will be taken from DataBase in real problem)\n",
        "\n",
        "    def __init__(self, AccountNumber, AccountHolderName, Pin):\n",
        "        \"\"\"\n",
        "        Initializes the BankAccount instance with Account Number, Account Holder's name,\n",
        "        PIN for authentication, and sets up the available balance.\n",
        "        \"\"\"\n",
        "        # Instance-level variables: unique to each instance of BankAccount\n",
        "        self.AccountNumber = AccountNumber  # Unique account number\n",
        "        self.AccountHolderName = AccountHolderName  # Account holder's name\n",
        "        self.pin = Pin  # User's PIN for authentication\n",
        "        self.authenticated = False  # Flag for checking if the user is authenticated\n",
        "        self.AvailableBalance = 0  # Initial balance set to 0\n",
        "\n",
        "        # Authentication check: compares user PIN with the default PIN\n",
        "        if Pin == BankAccount.auth:\n",
        "            self.authenticated = True  # Set the user as authenticated\n",
        "            print(\"Authentication successful.\")\n",
        "        else:\n",
        "            print(\"Incorrect PIN. Access denied.\")  # Print error message if PIN is incorrect\n",
        "\n",
        "    def Balance(self):\n",
        "        \"\"\"\n",
        "        Returns the current available balance of the account.\n",
        "        \"\"\"\n",
        "        return f\"Balance: {self.AvailableBalance}\"\n",
        "\n",
        "    def check_authentication(self):\n",
        "        \"\"\"\n",
        "        Checks if the user is authenticated. If not, it returns a message to enter a valid PIN.\n",
        "        \"\"\"\n",
        "        if not self.authenticated:\n",
        "            return \"You must enter a valid PIN to perform this action.\"\n",
        "\n",
        "    def deposit(self, Deposit):\n",
        "        \"\"\"\n",
        "        Deposits an amount into the account.\n",
        "        First, it checks if the user is authenticated before processing the deposit.\n",
        "        \"\"\"\n",
        "        if not self.authenticated:  # Check authentication before performing the operation\n",
        "            return self.check_authentication()  # Return message if not authenticated\n",
        "        else:\n",
        "            self.AvailableBalance += Deposit  # Add the deposit amount to the balance\n",
        "            return f\"Deposited Amount: {Deposit}\", f\"New Balance is: {self.AvailableBalance}\"\n",
        "\n",
        "    def withdraw(self, Withdraw):\n",
        "        \"\"\"\n",
        "        Withdraws an amount from the account.\n",
        "        Checks if the user is authenticated and ensures there are sufficient funds.\n",
        "        \"\"\"\n",
        "        if not self.authenticated:  # Check authentication before performing the operation\n",
        "            return self.check_authentication()  # Return message if not authenticated\n",
        "\n",
        "        if Withdraw > self.AvailableBalance:  # Check if there's enough balance for withdrawal\n",
        "            return \"Insufficient Balance\"  # Return message if not enough funds\n",
        "        else:\n",
        "            self.AvailableBalance -= Withdraw  # Subtract the withdrawal amount from the balance\n",
        "            return f\"Amount Withdrawn: {Withdraw}\", f\"New Balance is: {self.AvailableBalance}\"\n",
        "\n",
        "    def transfer(self, Account, Amount):\n",
        "        \"\"\"\n",
        "        Transfers an amount from the current account to another account.\n",
        "        Ensures the user is authenticated and has sufficient balance.\n",
        "        \"\"\"\n",
        "        if not self.authenticated:  # Check authentication before performing the operation\n",
        "            return self.check_authentication()  # Return message if not authenticated\n",
        "\n",
        "        if Amount > self.AvailableBalance:  # Check if there's enough balance for transfer\n",
        "            return \"Insufficient Balance to Transfer\"  # Return message if not enough funds\n",
        "        else:\n",
        "            self.AvailableBalance -= Amount  # Subtract the transfer amount from the current account\n",
        "            Account.AvailableBalance += Amount  # Add the transfer amount to the other account\n",
        "            return f\"Transferred {Amount} to Account {Account.AccountNumber}. New Balance is: {self.AvailableBalance}\""
      ],
      "metadata": {
        "id": "EREu2CJ1hWqx"
      },
      "execution_count": 239,
      "outputs": []
    },
    {
      "cell_type": "code",
      "source": [
        "# Creating two instances of BankAccount\n",
        "account1 = BankAccount(101, \"Ava\", 6969)  # Ava creates an account and enters correct PIN\n",
        "account2 = BankAccount(102, \"Bae\", 6969)  # Bae creates an account and enters correct PIN"
      ],
      "metadata": {
        "colab": {
          "base_uri": "https://localhost:8080/"
        },
        "id": "LQCnhARbi85r",
        "outputId": "dccb04e5-705b-43e7-9708-3632c9f56866"
      },
      "execution_count": 240,
      "outputs": [
        {
          "output_type": "stream",
          "name": "stdout",
          "text": [
            "Authentication successful.\n",
            "Authentication successful.\n"
          ]
        }
      ]
    },
    {
      "cell_type": "code",
      "source": [
        "# Deposit and Withdraw operations\n",
        "print(account1.deposit(500))  # Ava deposits money\n",
        "print(account1.withdraw(200))  # Ava withdraws money\n",
        "print(account2.deposit(1000))  # Bae deposits money\n",
        "print(account2.withdraw(300))  # Bae withdraws money\n",
        "\n",
        "# Transfer operation between Ava and Bae\n",
        "print(account1.transfer(account2, 100))  # Ava transfers money to Bae"
      ],
      "metadata": {
        "colab": {
          "base_uri": "https://localhost:8080/"
        },
        "id": "ALasdXMljCfD",
        "outputId": "b0c24353-f08d-46cc-9810-ea84e93cdafd"
      },
      "execution_count": 241,
      "outputs": [
        {
          "output_type": "stream",
          "name": "stdout",
          "text": [
            "('Deposited Amount: 500', 'New Balance is: 500')\n",
            "('Amount Withdrawn: 200', 'New Balance is: 300')\n",
            "('Deposited Amount: 1000', 'New Balance is: 1000')\n",
            "('Amount Withdrawn: 300', 'New Balance is: 700')\n",
            "Transferred 100 to Account 102. New Balance is: 200\n"
          ]
        }
      ]
    }
  ]
}